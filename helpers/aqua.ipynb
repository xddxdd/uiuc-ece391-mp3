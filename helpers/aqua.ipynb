{
 "cells": [
  {
   "cell_type": "code",
   "execution_count": 16,
   "metadata": {},
   "outputs": [],
   "source": [
    "from PIL import Image\n",
    "from PIL import ImageEnhance\n",
    "import numpy as np\n",
    "\n",
    "width = 40\n",
    "height = 20"
   ]
  },
  {
   "cell_type": "code",
   "execution_count": 17,
   "metadata": {},
   "outputs": [
    {
     "data": {
      "image/png": "[encoded data removed]",
      "text/plain": [
       "<PIL.Image.Image image mode=RGB size=200x200 at 0x7F6BA8CD2390>"
      ]
     },
     "execution_count": 17,
     "metadata": {},
     "output_type": "execute_result"
    }
   ],
   "source": [
    "img = Image.open('akuya.jpg')\n",
    "img = img.resize((width, height))\n",
    "img.resize((200, 200))"
   ]
  },
  {
   "cell_type": "code",
   "execution_count": 18,
   "metadata": {},
   "outputs": [],
   "source": [
    "#colors = [(0,0,0),(255,0,0),(0,255,0),(255,255,0),(0,0,255),(255,0,255),(0,255,255),(255,255,255),(128,128,128),(128,0,0),(0,128,0),(128,128,0),(0,0,128),(128,0,128),(0,128,128),(192,192,192)]\n",
    "colors = [\n",
    "    (0,0,0), (0,0,128), (0,128,0), (0,128,128),\n",
    "    (128,0,0), (128,0,128), (128,128,0), (128,128,128),\n",
    "    (128,128,128), (128,128,256), (128,256,128), (128,256,256),\n",
    "    (256,128,128), (256,128,256), (256,256,128), (256,256,256),\n",
    "]"
   ]
  },
  {
   "cell_type": "code",
   "execution_count": 19,
   "metadata": {},
   "outputs": [
    {
     "data": {
      "image/png": "[encoded data removed]",
      "text/plain": [
       "<PIL.Image.Image image mode=RGB size=200x200 at 0x7F6BA8D18828>"
      ]
     },
     "execution_count": 19,
     "metadata": {},
     "output_type": "execute_result"
    }
   ],
   "source": [
    "img = Image.open('akuya.jpg')\n",
    "img = img.resize((width, height))\n",
    "converter = ImageEnhance.Color(img)\n",
    "img = converter.enhance(5)\n",
    "data = []\n",
    "for x in range(width):\n",
    "    for y in range(height):\n",
    "        min_distance = 255 ** 2 * 3\n",
    "        min_color = 0\n",
    "        for i, color in enumerate(colors):\n",
    "            new_distance = np.sum((np.array(img.getpixel((x, y))) - np.array(color)) ** 2)\n",
    "            if new_distance < min_distance:\n",
    "                min_color = i\n",
    "                min_distance = new_distance\n",
    "        img.putpixel((x, y), colors[min_color])\n",
    "        data.append(min_color)\n",
    "img.resize((200, 200))"
   ]
  },
  {
   "cell_type": "code",
   "execution_count": 20,
   "metadata": {},
   "outputs": [
    {
     "data": {
      "image/png": "[encoded data removed]",
      "text/plain": [
       "<PIL.Image.Image image mode=RGB size=40x20 at 0x7F6BA8C5FF60>"
      ]
     },
     "execution_count": 20,
     "metadata": {},
     "output_type": "execute_result"
    }
   ],
   "source": [
    "def fill(img, x, y):\n",
    "    if x < 0 or y < 0 or x >= width or y >= height:\n",
    "        return img\n",
    "    if img.getpixel((x, y)) == (255, 255, 255):\n",
    "        img.putpixel((x, y), (0, 0, 0))\n",
    "        data[x * height + y] = 0\n",
    "        fill(img, x+1, y)\n",
    "        fill(img, x-1, y)\n",
    "        fill(img, x, y+1)\n",
    "        fill(img, x, y-1)\n",
    "    return img\n",
    "\n",
    "fill(img, 0, 0)\n",
    "fill(img, 0, height - 1)\n",
    "fill(img, width - 1, 0)\n",
    "fill(img, width - 1, height - 1)"
   ]
  },
  {
   "cell_type": "code",
   "execution_count": 21,
   "metadata": {},
   "outputs": [
    {
     "name": "stdout",
     "output_type": "stream",
     "text": [
      "0,0,0,0,0,0,0,0,0,0,0,4,0,0,0,0,0,0,0,0,0,0,0,0,0,0,0,0,4,9,0,0,0,0,0,0,0,0,0,0,\n",
      "0,0,0,0,0,0,0,9,11,11,11,11,11,11,0,0,0,0,0,0,0,0,0,0,0,0,1,11,11,11,11,6,9,11,0,0,0,0,0,0,\n",
      "0,0,0,0,0,0,11,11,11,7,14,15,4,9,11,0,0,0,11,11,0,0,0,0,0,11,11,11,12,12,15,15,15,6,0,9,11,9,11,11,\n",
      "0,0,0,0,0,11,11,11,12,15,15,15,15,15,9,1,9,15,9,11,0,0,0,0,0,11,11,15,15,15,15,15,15,15,7,9,9,9,11,11,\n",
      "0,0,0,0,11,11,11,12,15,15,0,14,15,15,15,9,9,11,1,0,0,0,0,0,11,11,6,15,15,15,3,15,15,15,15,9,0,15,15,15,\n",
      "0,0,0,7,11,11,12,6,12,3,1,15,15,15,15,7,15,15,15,15,0,0,0,11,11,11,11,12,15,15,15,15,15,4,15,15,15,12,12,4,\n",
      "0,0,0,11,11,11,12,15,15,15,15,15,15,4,12,15,15,3,3,12,0,0,0,11,11,15,11,15,12,12,15,15,15,0,12,15,15,3,7,6,\n",
      "0,0,0,11,11,11,11,11,15,12,14,15,15,7,6,15,15,3,3,15,0,0,0,11,11,11,11,11,15,14,12,15,15,15,12,15,15,9,15,15,\n",
      "0,0,0,11,11,11,11,11,15,12,12,12,15,15,4,15,15,11,15,15,0,0,0,11,11,11,6,4,12,15,12,15,15,14,15,15,15,4,2,14,\n",
      "0,0,0,11,11,11,4,12,15,15,15,15,15,15,15,15,15,3,3,6,0,0,3,11,11,11,11,12,15,15,0,0,15,15,15,15,15,3,3,6,\n",
      "0,0,3,11,11,11,11,11,12,15,3,3,15,15,15,15,15,3,10,15,0,9,3,11,11,11,7,14,12,0,1,12,15,15,15,15,15,15,15,15,\n",
      "11,11,3,11,11,11,11,4,15,15,15,15,15,15,15,15,15,15,12,15,11,11,3,11,2,11,11,11,12,15,15,15,15,15,15,15,15,4,15,15,\n",
      "11,11,3,3,11,11,11,11,11,12,12,15,15,15,15,4,9,12,15,15,11,11,3,6,11,9,11,11,11,7,9,9,15,11,11,15,0,15,15,15,\n",
      "11,11,1,14,11,11,3,11,11,11,11,11,11,11,11,7,15,3,0,0,11,11,15,0,3,11,11,11,11,11,9,11,11,11,11,15,15,11,11,11,\n",
      "3,0,15,15,11,11,11,11,11,11,11,3,12,15,15,15,9,1,9,11,11,15,15,15,11,4,11,11,0,11,11,11,11,15,15,15,11,11,11,11,\n",
      "11,15,15,15,11,11,11,11,11,11,11,0,11,9,14,11,11,11,11,11,11,7,15,15,11,0,11,11,11,11,11,11,11,11,11,11,3,11,9,3,\n",
      "11,7,15,11,11,0,11,11,0,1,7,11,11,11,11,11,11,11,11,0,11,11,11,11,11,0,3,11,11,0,0,0,0,0,0,0,0,11,11,11,\n",
      "11,11,11,11,11,0,0,11,11,1,0,0,0,0,0,0,0,0,11,11,11,11,11,9,9,0,0,11,11,0,0,0,0,0,0,0,0,0,0,11,\n",
      "11,11,11,11,0,0,0,0,1,0,0,0,0,0,0,0,0,0,0,0,11,11,11,11,0,0,0,0,6,0,0,0,0,0,0,0,0,0,0,0,\n",
      "0,0,0,0,0,0,0,0,0,0,0,0,0,0,0,0,0,0,0,0,0,0,0,0,0,0,0,0,0,0,0,0,0,0,0,0,0,0,0,0,\n"
     ]
    }
   ],
   "source": [
    "for y in range(height):\n",
    "    for x in range(width):\n",
    "        print(data[y * width + x], end=',')\n",
    "    print('')"
   ]
  }
 ],
 "metadata": {
  "kernelspec": {
   "display_name": "Python 3",
   "language": "python",
   "name": "python3"
  },
  "language_info": {
   "codemirror_mode": {
    "name": "ipython",
    "version": 3
   },
   "file_extension": ".py",
   "mimetype": "text/x-python",
   "name": "python",
   "nbconvert_exporter": "python",
   "pygments_lexer": "ipython3",
   "version": "3.7.0"
  }
 },
 "nbformat": 4,
 "nbformat_minor": 2
}
