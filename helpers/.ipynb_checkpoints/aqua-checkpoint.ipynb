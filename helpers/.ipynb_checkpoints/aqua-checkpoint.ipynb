{
 "cells": [
  {
   "cell_type": "code",
   "execution_count": 1,
   "metadata": {},
   "outputs": [],
   "source": [
    "from PIL import Image\n",
    "from PIL import ImageEnhance\n",
    "import numpy as np\n",
    "\n",
    "width = 40\n",
    "height = 20"
   ]
  },
  {
   "cell_type": "code",
   "execution_count": 3,
   "metadata": {},
   "outputs": [
    {
     "data": {
      "image/png": "[encoded data removed]",
      "text/plain": [
       "<PIL.Image.Image image mode=RGB size=200x200 at 0x7F24D5B599E8>"
      ]
     },
     "execution_count": 3,
     "metadata": {},
     "output_type": "execute_result"
    }
   ],
   "source": [
    "img = Image.open('aqua.jpg')\n",
    "img = img.resize((width, height))\n",
    "img.resize((200, 200))"
   ]
  },
  {
   "cell_type": "code",
   "execution_count": 4,
   "metadata": {},
   "outputs": [],
   "source": [
    "colors = [\n",
    "    (0,0,0), (0,0,170), (0,170,0), (0,170,170),\n",
    "    (170,0,0), (170,0,170), (170,85,0), (170,170,170),\n",
    "    (85,85,85), (85,85,255), (85,255,85), (85,255,255),\n",
    "    (255,85,85), (255,85,255), (255,255,85), (255,255,255),\n",
    "]"
   ]
  },
  {
   "cell_type": "code",
   "execution_count": 16,
   "metadata": {},
   "outputs": [
    {
     "data": {
      "image/png": "[encoded data removed]",
      "text/plain": [
       "<PIL.Image.Image image mode=RGB size=200x200 at 0x7F24D5918748>"
      ]
     },
     "execution_count": 16,
     "metadata": {},
     "output_type": "execute_result"
    }
   ],
   "source": [
    "img = Image.open('aqua.jpg')\n",
    "img = img.resize((width, height))\n",
    "converter = ImageEnhance.Color(img)\n",
    "img = converter.enhance(8)\n",
    "data = []\n",
    "for x in range(width):\n",
    "    for y in range(height):\n",
    "        min_distance = 255 ** 2 * 3\n",
    "        min_color = 0\n",
    "        for i, color in enumerate(colors):\n",
    "            new_distance = np.sum((np.array(img.getpixel((x, y))) - np.array(color)) ** 2)\n",
    "            if new_distance < min_distance:\n",
    "                min_color = i\n",
    "                min_distance = new_distance\n",
    "        img.putpixel((x, y), colors[min_color])\n",
    "        data.append(min_color)\n",
    "img.resize((200, 200))"
   ]
  },
  {
   "cell_type": "code",
   "execution_count": 17,
   "metadata": {},
   "outputs": [
    {
     "data": {
      "image/png": "[encoded data removed]",
      "text/plain": [
       "<PIL.Image.Image image mode=RGB size=40x20 at 0x7F24D58F7320>"
      ]
     },
     "execution_count": 17,
     "metadata": {},
     "output_type": "execute_result"
    }
   ],
   "source": [
    "def fill(img, x, y):\n",
    "    if x < 0 or y < 0 or x >= width or y >= height:\n",
    "        return img\n",
    "    if img.getpixel((x, y)) == (255, 255, 255):\n",
    "        img.putpixel((x, y), (0, 0, 0))\n",
    "        data[x * height + y] = 0\n",
    "        fill(img, x+1, y)\n",
    "        fill(img, x-1, y)\n",
    "        fill(img, x, y+1)\n",
    "        fill(img, x, y-1)\n",
    "    return img\n",
    "\n",
    "fill(img, 0, 0)\n",
    "fill(img, 0, height - 1)\n",
    "fill(img, width - 1, 0)\n",
    "fill(img, width - 1, height - 1)"
   ]
  },
  {
   "cell_type": "code",
   "execution_count": 18,
   "metadata": {},
   "outputs": [
    {
     "name": "stdout",
     "output_type": "stream",
     "text": [
      "0,0,0,0,0,0,0,0,0,0,0,4,0,0,0,0,0,0,0,0,0,0,0,0,0,0,0,0,8,3,0,0,0,0,0,0,0,0,0,0,\n",
      "0,0,0,0,0,0,0,11,11,11,11,11,11,11,0,0,0,0,0,0,0,0,0,0,0,0,8,11,11,11,11,6,11,11,15,11,0,0,0,0,\n",
      "0,0,0,0,0,0,11,11,11,6,14,15,4,11,11,15,0,0,11,11,0,0,0,0,0,11,11,11,12,12,15,15,15,6,8,11,11,3,11,11,\n",
      "0,0,0,0,0,11,11,11,4,15,15,15,15,15,7,1,11,7,3,11,0,0,0,0,0,11,11,15,14,15,15,15,15,15,6,7,11,9,11,11,\n",
      "0,0,0,0,11,11,11,12,15,15,0,14,15,15,15,7,11,11,1,0,0,0,0,0,11,11,6,15,15,15,9,15,15,15,15,7,8,14,15,15,\n",
      "0,0,0,7,11,11,12,6,12,1,9,14,15,15,15,8,15,15,15,15,0,0,0,11,11,11,11,12,15,15,15,15,15,4,15,15,15,12,12,4,\n",
      "0,0,0,11,11,11,12,14,15,15,15,15,15,4,6,15,15,3,10,12,0,0,0,11,11,15,11,15,4,12,15,15,15,0,6,15,15,10,8,6,\n",
      "0,0,0,11,11,11,11,11,15,12,14,15,15,7,4,15,15,10,3,15,0,0,0,11,11,11,11,11,15,14,12,15,15,15,6,15,15,3,15,15,\n",
      "0,0,0,11,11,11,11,11,15,12,12,12,15,15,6,15,15,11,15,15,0,0,0,11,11,11,6,12,12,15,12,15,15,14,15,15,15,8,2,14,\n",
      "0,0,0,11,11,11,6,12,15,15,15,15,15,15,15,15,15,3,10,6,0,0,9,11,11,11,11,12,14,15,0,0,15,15,15,15,15,3,3,6,\n",
      "0,0,3,11,11,11,11,11,12,15,9,9,15,15,15,15,15,3,3,15,0,3,3,11,11,11,9,7,7,0,9,7,15,15,15,15,15,15,15,15,\n",
      "11,11,3,11,11,11,11,4,14,15,14,15,15,15,15,15,15,15,12,15,11,11,3,11,8,11,11,11,6,15,15,15,15,15,15,15,15,4,15,15,\n",
      "11,11,3,9,11,11,11,11,11,12,12,14,15,15,15,4,11,4,15,15,11,11,3,6,11,3,11,11,11,9,3,11,15,11,11,15,8,15,15,15,\n",
      "11,11,1,14,11,11,9,11,11,11,11,11,11,11,11,7,15,9,0,0,11,11,15,0,3,11,11,11,11,11,11,11,11,11,11,14,15,3,11,11,\n",
      "8,0,15,15,11,11,11,11,11,11,11,3,12,14,15,15,11,1,3,11,11,15,15,15,11,4,11,11,8,11,11,3,11,15,15,15,11,11,3,11,\n",
      "11,15,15,15,11,11,11,11,11,11,11,0,11,3,14,11,11,11,11,11,11,8,15,15,11,0,11,11,11,11,11,11,11,11,11,11,1,11,3,9,\n",
      "11,3,15,11,11,0,11,11,0,1,3,11,11,11,11,11,11,11,11,8,11,11,11,11,11,0,8,11,3,0,0,0,0,0,0,0,0,11,11,11,\n",
      "11,11,11,11,11,0,0,11,11,9,0,0,0,0,0,0,0,0,11,11,11,11,11,3,11,0,0,11,11,0,0,0,0,0,0,0,0,0,0,11,\n",
      "11,11,11,11,0,0,0,0,1,0,0,0,0,0,0,0,0,0,0,0,11,11,11,11,0,0,0,0,8,0,0,0,0,0,0,0,0,0,0,0,\n",
      "0,0,0,0,0,0,0,0,0,0,0,0,0,0,0,0,0,0,0,0,0,0,0,0,0,0,0,0,0,0,0,0,0,0,0,0,0,0,0,0,\n"
     ]
    }
   ],
   "source": [
    "for y in range(height):\n",
    "    for x in range(width):\n",
    "        print(data[y * width + x], end=',')\n",
    "    print('')"
   ]
  }
 ],
 "metadata": {
  "kernelspec": {
   "display_name": "Python 3",
   "language": "python",
   "name": "python3"
  },
  "language_info": {
   "codemirror_mode": {
    "name": "ipython",
    "version": 3
   },
   "file_extension": ".py",
   "mimetype": "text/x-python",
   "name": "python",
   "nbconvert_exporter": "python",
   "pygments_lexer": "ipython3",
   "version": "3.7.1"
  }
 },
 "nbformat": 4,
 "nbformat_minor": 2
}
